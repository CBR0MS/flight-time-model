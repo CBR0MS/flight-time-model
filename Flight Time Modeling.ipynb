{
 "cells": [
  {
   "cell_type": "markdown",
   "metadata": {},
   "source": [
    "# Flight Time Modeling\n",
    "\n"
   ]
  },
  {
   "cell_type": "code",
   "execution_count": 10,
   "metadata": {},
   "outputs": [
    {
     "name": "stderr",
     "output_type": "stream",
     "text": [
      "/Users/cbroms/.virtualenvs/working/lib/python3.6/site-packages/IPython/core/interactiveshell.py:2785: DtypeWarning: Columns (77) have mixed types. Specify dtype option on import or set low_memory=False.\n",
      "  interactivity=interactivity, compiler=compiler, result=result)\n",
      "/Users/cbroms/.virtualenvs/working/lib/python3.6/site-packages/IPython/core/interactiveshell.py:2785: DtypeWarning: Columns (48,69,76,77,84) have mixed types. Specify dtype option on import or set low_memory=False.\n",
      "  interactivity=interactivity, compiler=compiler, result=result)\n",
      "/Users/cbroms/.virtualenvs/working/lib/python3.6/site-packages/IPython/core/interactiveshell.py:2785: DtypeWarning: Columns (77,84,85) have mixed types. Specify dtype option on import or set low_memory=False.\n",
      "  interactivity=interactivity, compiler=compiler, result=result)\n",
      "/Users/cbroms/.virtualenvs/working/lib/python3.6/site-packages/IPython/core/interactiveshell.py:2785: DtypeWarning: Columns (48,77,84) have mixed types. Specify dtype option on import or set low_memory=False.\n",
      "  interactivity=interactivity, compiler=compiler, result=result)\n"
     ]
    }
   ],
   "source": [
    "import glob\n",
    "import numpy as np \n",
    "import sklearn\n",
    "import pandas as pd\n",
    "\n",
    "january_data = glob.glob('CarrierData/*/*_1.csv')\n",
    "\n",
    "loaded_data = []\n",
    "\n",
    "for path in january_data:\n",
    "    this_data = pd.read_csv(path, skipinitialspace=True)\n",
    "    loaded_data.append(this_data)\n",
    "\n"
   ]
  },
  {
   "cell_type": "code",
   "execution_count": 16,
   "metadata": {},
   "outputs": [
    {
     "name": "stdout",
     "output_type": "stream",
     "text": [
      "0         DFW\n",
      "1         DFW\n",
      "2         DFW\n",
      "3         DFW\n",
      "4         DFW\n",
      "5         DFW\n",
      "6         DFW\n",
      "7         DFW\n",
      "8         DFW\n",
      "9         DFW\n",
      "10        DFW\n",
      "11        DFW\n",
      "12        DFW\n",
      "13        DFW\n",
      "14        DFW\n",
      "15        DFW\n",
      "16        DFW\n",
      "17        DFW\n",
      "18        DFW\n",
      "19        DFW\n",
      "20        DFW\n",
      "21        DFW\n",
      "22        DFW\n",
      "23        DFW\n",
      "24        DFW\n",
      "25        DFW\n",
      "26        DTW\n",
      "27        DTW\n",
      "28        DTW\n",
      "29        DTW\n",
      "         ... \n",
      "445797    ATL\n",
      "445798    CLE\n",
      "445799    TPA\n",
      "445800    CLE\n",
      "445801    ATL\n",
      "445802    MIA\n",
      "445803    ORD\n",
      "445804    MCO\n",
      "445805    ORD\n",
      "445806    RSW\n",
      "445807    STL\n",
      "445808    RSW\n",
      "445809    CLE\n",
      "445810    ATL\n",
      "445811    ATL\n",
      "445812    LGA\n",
      "445813    STL\n",
      "445814    PHX\n",
      "445815    DEN\n",
      "445816    ORD\n",
      "445817    MCO\n",
      "445818    MCO\n",
      "445819    DEN\n",
      "445820    SAN\n",
      "445821    SLC\n",
      "445822    DEN\n",
      "445823    DEN\n",
      "445824    DEN\n",
      "445825    FSD\n",
      "445826    CID\n",
      "Name: Origin, Length: 445827, dtype: object\n"
     ]
    }
   ],
   "source": [
    "print(loaded_data[0]['Origin'])"
   ]
  },
  {
   "cell_type": "code",
   "execution_count": null,
   "metadata": {},
   "outputs": [],
   "source": []
  }
 ],
 "metadata": {
  "kernelspec": {
   "display_name": "Python 3",
   "language": "python",
   "name": "python3"
  },
  "language_info": {
   "codemirror_mode": {
    "name": "ipython",
    "version": 3
   },
   "file_extension": ".py",
   "mimetype": "text/x-python",
   "name": "python",
   "nbconvert_exporter": "python",
   "pygments_lexer": "ipython3",
   "version": "3.6.5"
  }
 },
 "nbformat": 4,
 "nbformat_minor": 2
}
